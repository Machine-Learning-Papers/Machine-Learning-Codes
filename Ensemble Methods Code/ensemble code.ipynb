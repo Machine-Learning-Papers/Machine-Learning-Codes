{
 "cells": [
  {
   "cell_type": "code",
   "execution_count": 1,
   "metadata": {},
   "outputs": [],
   "source": [
    "# import packages\n",
    "\n",
    "import pandas as pd\n",
    "import numpy as np\n",
    "import matplotlib.pyplot as plt\n",
    "from sklearn.model_selection import train_test_split\n",
    "from sklearn.metrics import roc_auc_score\n",
    "from sklearn.svm import SVC, LinearSVC\n",
    "from sklearn.naive_bayes import GaussianNB\n",
    "from sklearn.ensemble import RandomForestClassifier, GradientBoostingClassifier\n",
    "from sklearn.linear_model import LogisticRegression\n",
    "from sklearn.neighbors import KNeighborsClassifier\n",
    "from sklearn.neural_network import MLPClassifier\n",
    "from sklearn.kernel_approximation import Nystroem\n",
    "from sklearn.kernel_approximation import RBFSampler\n",
    "from sklearn.pipeline import make_pipeline\n",
    "\n",
    "\n"
   ]
  },
  {
   "cell_type": "code",
   "execution_count": 2,
   "metadata": {},
   "outputs": [
    {
     "output_type": "execute_result",
     "data": {
      "text/plain": "  cand_pty_affiliation cand_office_st cand_office cand_status rpt_tp  \\\n0                  REP             US           P           C     Q3   \n1                  DEM             US           P           C     M5   \n2                  DEM             US           P           C     M3   \n3                  DEM             US           P           C     Q2   \n4                  REP             US           P           C    12G   \n\n  transaction_tp entity_tp state classification   cycle  transaction_amt  \n0             15       IND    NY       Engineer  2016.0            500.0  \n1            15E       IND    OR      Math-Stat  2016.0             50.0  \n2             15       IND    TX      Scientist  2008.0            250.0  \n3            15E       IND    IN      Math-Stat  2016.0            250.0  \n4             15       IND    MA       Engineer  2016.0            184.0  ",
      "text/html": "<div>\n<style scoped>\n    .dataframe tbody tr th:only-of-type {\n        vertical-align: middle;\n    }\n\n    .dataframe tbody tr th {\n        vertical-align: top;\n    }\n\n    .dataframe thead th {\n        text-align: right;\n    }\n</style>\n<table border=\"1\" class=\"dataframe\">\n  <thead>\n    <tr style=\"text-align: right;\">\n      <th></th>\n      <th>cand_pty_affiliation</th>\n      <th>cand_office_st</th>\n      <th>cand_office</th>\n      <th>cand_status</th>\n      <th>rpt_tp</th>\n      <th>transaction_tp</th>\n      <th>entity_tp</th>\n      <th>state</th>\n      <th>classification</th>\n      <th>cycle</th>\n      <th>transaction_amt</th>\n    </tr>\n  </thead>\n  <tbody>\n    <tr>\n      <th>0</th>\n      <td>REP</td>\n      <td>US</td>\n      <td>P</td>\n      <td>C</td>\n      <td>Q3</td>\n      <td>15</td>\n      <td>IND</td>\n      <td>NY</td>\n      <td>Engineer</td>\n      <td>2016.0</td>\n      <td>500.0</td>\n    </tr>\n    <tr>\n      <th>1</th>\n      <td>DEM</td>\n      <td>US</td>\n      <td>P</td>\n      <td>C</td>\n      <td>M5</td>\n      <td>15E</td>\n      <td>IND</td>\n      <td>OR</td>\n      <td>Math-Stat</td>\n      <td>2016.0</td>\n      <td>50.0</td>\n    </tr>\n    <tr>\n      <th>2</th>\n      <td>DEM</td>\n      <td>US</td>\n      <td>P</td>\n      <td>C</td>\n      <td>M3</td>\n      <td>15</td>\n      <td>IND</td>\n      <td>TX</td>\n      <td>Scientist</td>\n      <td>2008.0</td>\n      <td>250.0</td>\n    </tr>\n    <tr>\n      <th>3</th>\n      <td>DEM</td>\n      <td>US</td>\n      <td>P</td>\n      <td>C</td>\n      <td>Q2</td>\n      <td>15E</td>\n      <td>IND</td>\n      <td>IN</td>\n      <td>Math-Stat</td>\n      <td>2016.0</td>\n      <td>250.0</td>\n    </tr>\n    <tr>\n      <th>4</th>\n      <td>REP</td>\n      <td>US</td>\n      <td>P</td>\n      <td>C</td>\n      <td>12G</td>\n      <td>15</td>\n      <td>IND</td>\n      <td>MA</td>\n      <td>Engineer</td>\n      <td>2016.0</td>\n      <td>184.0</td>\n    </tr>\n  </tbody>\n</table>\n</div>"
     },
     "metadata": {},
     "execution_count": 2
    }
   ],
   "source": [
    "\n",
    "SEED = 222\n",
    "np.random.seed(SEED)\n",
    "\n",
    "# getting data\n",
    "\n",
    "df = pd.read_csv('D:\\\\Machine-Learning-A-Z-New\\\\Machine Learning A-Z New\\\\Ensemble Methods Code\\\\input.csv')\n",
    "df.head()"
   ]
  },
  {
   "cell_type": "code",
   "execution_count": 3,
   "metadata": {},
   "outputs": [],
   "source": [
    "\n",
    "def get_train_test(test_size=0.25):\n",
    "\n",
    "    \"\"\"Split Data into train and test sets.\"\"\"\n",
    "    y = 1 * (df.cand_pty_affiliation == \"REP\")\n",
    "    X = df.drop([\"cand_pty_affiliation\"], axis=1)\n",
    "    X = pd.get_dummies(X, sparse=True)\n",
    "    X.drop(X.columns[X.std() == 0], axis=1, inplace=True)\n",
    "    return train_test_split(X, y, test_size=test_size, random_state=SEED)\n",
    "\n",
    "\n",
    "X_train, X_test, y_train, y_test = get_train_test()"
   ]
  },
  {
   "cell_type": "code",
   "execution_count": 5,
   "metadata": {},
   "outputs": [],
   "source": [
    "\n",
    "def get_models():\n",
    "    \"\"\"Generate a library of base learners.\"\"\"\n",
    "    # nb = GaussianNB()\n",
    "    svc = SVC(C=100, probability=True)\n",
    "    knn = KNeighborsClassifier(n_neighbors=3)\n",
    "    lr = LogisticRegression(C=100, random_state=SEED)\n",
    "    # nn = MLPClassifier((80, 10), early_stopping=False, random_state=SEED)\n",
    "    # gb = GradientBoostingClassifier(n_estimators=100, random_state=SEED)\n",
    "    rf = RandomForestClassifier(n_estimators=10, max_features=3, random_state=SEED)\n",
    "\n",
    "    models = {'svm': svc,\n",
    "              'knn': knn,\n",
    "            #   'naive bayes': nb,\n",
    "            #   'mlp-nn': nn,\n",
    "              'random forest': rf,\n",
    "            #   'gbm': gb,\n",
    "              'logistic': lr,\n",
    "              }\n",
    "\n",
    "    return models"
   ]
  },
  {
   "cell_type": "code",
   "execution_count": 6,
   "metadata": {},
   "outputs": [],
   "source": [
    "\n",
    " def train_predict(model_list):\n",
    "    \"\"\"Fit models in list on training set and return preds\"\"\"\n",
    "\n",
    "    P = np.zeros((y_test.shape[0], len(model_list)))\n",
    "    P = pd.DataFrame(P)\n",
    "\n",
    "    print(\"Fitting models.\")\n",
    "    cols = list()\n",
    "    for i, (name, m) in enumerate(models.items()):\n",
    "\n",
    "        print(\"%s...\" % name, end=\" \", flush=False)\n",
    "        m.fit(X_train, y_train)\n",
    "        P.iloc[:, i] = m.predict_proba(X_test)[:, 1]\n",
    "        cols.append(name)\n",
    "        print(\"done\")\n",
    "\n",
    "    P.columns = cols\n",
    "    print(\"Done.\\n\")\n",
    "    return P"
   ]
  },
  {
   "cell_type": "code",
   "execution_count": 7,
   "metadata": {},
   "outputs": [],
   "source": [
    "\n",
    "def score_models(P, y):\n",
    "    \"\"\"Score model in prediction DF\"\"\"\n",
    "    print(\"Scoring models.\")\n",
    "    for m in P.columns:\n",
    "        score = roc_auc_score(y, P.loc[:, m])\n",
    "        print(\"%-26s: %.3f\" % (m, score))\n",
    "    print(\"Done.\\n\")"
   ]
  },
  {
   "cell_type": "code",
   "execution_count": 8,
   "metadata": {},
   "outputs": [],
   "source": [
    "models = get_models()"
   ]
  },
  {
   "cell_type": "code",
   "execution_count": 9,
   "metadata": {},
   "outputs": [
    {
     "output_type": "stream",
     "name": "stdout",
     "text": "Fitting models.\nsvm..."
    }
   ],
   "source": [
    "P = train_predict(models) "
   ]
  },
  {
   "cell_type": "code",
   "execution_count": null,
   "metadata": {},
   "outputs": [],
   "source": [
    "score_models(P, y_test)  "
   ]
  }
 ],
 "metadata": {
  "language_info": {
   "codemirror_mode": {
    "name": "ipython",
    "version": 3
   },
   "file_extension": ".py",
   "mimetype": "text/x-python",
   "name": "python",
   "nbconvert_exporter": "python",
   "pygments_lexer": "ipython3",
   "version": "3.6.10-final"
  },
  "orig_nbformat": 2,
  "kernelspec": {
   "name": "python3",
   "display_name": "Python 3"
  }
 },
 "nbformat": 4,
 "nbformat_minor": 2
}